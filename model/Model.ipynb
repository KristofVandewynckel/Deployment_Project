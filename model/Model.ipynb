{
 "cells": [
  {
   "cell_type": "code",
   "execution_count": 1,
   "id": "a1085fd2",
   "metadata": {},
   "outputs": [],
   "source": [
    "import pandas as pd\n",
    "import numpy as np\n",
    "import pickle\n",
    "from sklearn.model_selection import train_test_split\n",
    "from sklearn.linear_model import LinearRegression\n",
    "from sklearn.preprocessing import StandardScaler"
   ]
  },
  {
   "cell_type": "code",
   "execution_count": 2,
   "id": "dbd34a03",
   "metadata": {},
   "outputs": [],
   "source": [
    "def train():\n",
    "    data = pd.read_csv('../preprocessing/houses_filtered.csv')\n",
    "    \n",
    "    X = data.drop(['Location','Price'], axis=1)\n",
    "    y = data['Price']\n",
    "    \n",
    "    X_train, X_test, y_train, y_test = train_test_split(X, y, test_size=0.2, random_state=42)\n",
    "    \n",
    "    #sc = StandardScaler()\n",
    "\n",
    "    #X_train = sc.fit_transform(X_train)\n",
    "    #X_test = sc.transform(X_test)\n",
    "    \n",
    "    model = LinearRegression()\n",
    "    model.fit(X_train, y_train)\n",
    "    #y_pred = model.predict(X_test)\n",
    "    \n",
    "    pickle.dump(model, open('model.pickle', 'wb'))\n",
    "    print('Model saved.')"
   ]
  },
  {
   "cell_type": "code",
   "execution_count": 3,
   "id": "1e42a452",
   "metadata": {},
   "outputs": [
    {
     "name": "stdout",
     "output_type": "stream",
     "text": [
      "Model saved.\n"
     ]
    }
   ],
   "source": [
    "train()"
   ]
  },
  {
   "cell_type": "code",
   "execution_count": 4,
   "id": "f289655f",
   "metadata": {},
   "outputs": [
    {
     "data": {
      "text/html": [
       "<div>\n",
       "<style scoped>\n",
       "    .dataframe tbody tr th:only-of-type {\n",
       "        vertical-align: middle;\n",
       "    }\n",
       "\n",
       "    .dataframe tbody tr th {\n",
       "        vertical-align: top;\n",
       "    }\n",
       "\n",
       "    .dataframe thead th {\n",
       "        text-align: right;\n",
       "    }\n",
       "</style>\n",
       "<table border=\"1\" class=\"dataframe\">\n",
       "  <thead>\n",
       "    <tr style=\"text-align: right;\">\n",
       "      <th></th>\n",
       "      <th>Location</th>\n",
       "      <th>Price</th>\n",
       "      <th>Number of bedrooms</th>\n",
       "      <th>Living area</th>\n",
       "      <th>Surface area land</th>\n",
       "      <th>Property subtype_FARMHOUSE</th>\n",
       "      <th>Property subtype_HOUSE</th>\n",
       "      <th>Property subtype_MANSION</th>\n",
       "      <th>Property subtype_MIXED_USE_BUILDING</th>\n",
       "      <th>Property subtype_VILLA</th>\n",
       "      <th>Kitchen equipped</th>\n",
       "      <th>Open fireplace</th>\n",
       "      <th>Terrace</th>\n",
       "      <th>Garden</th>\n",
       "      <th>Pool</th>\n",
       "      <th>Condition</th>\n",
       "    </tr>\n",
       "  </thead>\n",
       "  <tbody>\n",
       "    <tr>\n",
       "      <th>0</th>\n",
       "      <td>Verviers</td>\n",
       "      <td>296607.0</td>\n",
       "      <td>3.0</td>\n",
       "      <td>130.0</td>\n",
       "      <td>239.0</td>\n",
       "      <td>0</td>\n",
       "      <td>1</td>\n",
       "      <td>0</td>\n",
       "      <td>0</td>\n",
       "      <td>0</td>\n",
       "      <td>0</td>\n",
       "      <td>0</td>\n",
       "      <td>1</td>\n",
       "      <td>1</td>\n",
       "      <td>0</td>\n",
       "      <td>0</td>\n",
       "    </tr>\n",
       "    <tr>\n",
       "      <th>1</th>\n",
       "      <td>VIANE</td>\n",
       "      <td>299000.0</td>\n",
       "      <td>5.0</td>\n",
       "      <td>200.0</td>\n",
       "      <td>1150.0</td>\n",
       "      <td>0</td>\n",
       "      <td>1</td>\n",
       "      <td>0</td>\n",
       "      <td>0</td>\n",
       "      <td>0</td>\n",
       "      <td>0</td>\n",
       "      <td>0</td>\n",
       "      <td>0</td>\n",
       "      <td>0</td>\n",
       "      <td>0</td>\n",
       "      <td>0</td>\n",
       "    </tr>\n",
       "    <tr>\n",
       "      <th>2</th>\n",
       "      <td>Nivelles</td>\n",
       "      <td>195000.0</td>\n",
       "      <td>3.0</td>\n",
       "      <td>135.0</td>\n",
       "      <td>165.0</td>\n",
       "      <td>0</td>\n",
       "      <td>1</td>\n",
       "      <td>0</td>\n",
       "      <td>0</td>\n",
       "      <td>0</td>\n",
       "      <td>1</td>\n",
       "      <td>0</td>\n",
       "      <td>1</td>\n",
       "      <td>0</td>\n",
       "      <td>0</td>\n",
       "      <td>1</td>\n",
       "    </tr>\n",
       "    <tr>\n",
       "      <th>3</th>\n",
       "      <td>Dinant</td>\n",
       "      <td>175000.0</td>\n",
       "      <td>3.0</td>\n",
       "      <td>128.0</td>\n",
       "      <td>260.0</td>\n",
       "      <td>0</td>\n",
       "      <td>1</td>\n",
       "      <td>0</td>\n",
       "      <td>0</td>\n",
       "      <td>0</td>\n",
       "      <td>1</td>\n",
       "      <td>0</td>\n",
       "      <td>1</td>\n",
       "      <td>0</td>\n",
       "      <td>0</td>\n",
       "      <td>1</td>\n",
       "    </tr>\n",
       "    <tr>\n",
       "      <th>4</th>\n",
       "      <td>Lierde</td>\n",
       "      <td>415000.0</td>\n",
       "      <td>3.0</td>\n",
       "      <td>207.0</td>\n",
       "      <td>534.0</td>\n",
       "      <td>0</td>\n",
       "      <td>1</td>\n",
       "      <td>0</td>\n",
       "      <td>0</td>\n",
       "      <td>0</td>\n",
       "      <td>1</td>\n",
       "      <td>0</td>\n",
       "      <td>1</td>\n",
       "      <td>1</td>\n",
       "      <td>0</td>\n",
       "      <td>0</td>\n",
       "    </tr>\n",
       "    <tr>\n",
       "      <th>...</th>\n",
       "      <td>...</td>\n",
       "      <td>...</td>\n",
       "      <td>...</td>\n",
       "      <td>...</td>\n",
       "      <td>...</td>\n",
       "      <td>...</td>\n",
       "      <td>...</td>\n",
       "      <td>...</td>\n",
       "      <td>...</td>\n",
       "      <td>...</td>\n",
       "      <td>...</td>\n",
       "      <td>...</td>\n",
       "      <td>...</td>\n",
       "      <td>...</td>\n",
       "      <td>...</td>\n",
       "      <td>...</td>\n",
       "    </tr>\n",
       "    <tr>\n",
       "      <th>6883</th>\n",
       "      <td>Zaventem</td>\n",
       "      <td>488000.0</td>\n",
       "      <td>3.0</td>\n",
       "      <td>150.0</td>\n",
       "      <td>390.0</td>\n",
       "      <td>0</td>\n",
       "      <td>1</td>\n",
       "      <td>0</td>\n",
       "      <td>0</td>\n",
       "      <td>0</td>\n",
       "      <td>0</td>\n",
       "      <td>0</td>\n",
       "      <td>1</td>\n",
       "      <td>1</td>\n",
       "      <td>0</td>\n",
       "      <td>0</td>\n",
       "    </tr>\n",
       "    <tr>\n",
       "      <th>6884</th>\n",
       "      <td>Aalst</td>\n",
       "      <td>550000.0</td>\n",
       "      <td>4.0</td>\n",
       "      <td>1380.0</td>\n",
       "      <td>1300.0</td>\n",
       "      <td>0</td>\n",
       "      <td>0</td>\n",
       "      <td>0</td>\n",
       "      <td>0</td>\n",
       "      <td>1</td>\n",
       "      <td>1</td>\n",
       "      <td>1</td>\n",
       "      <td>1</td>\n",
       "      <td>1</td>\n",
       "      <td>0</td>\n",
       "      <td>0</td>\n",
       "    </tr>\n",
       "    <tr>\n",
       "      <th>6885</th>\n",
       "      <td>Charleroi Ransart</td>\n",
       "      <td>115000.0</td>\n",
       "      <td>2.0</td>\n",
       "      <td>120.0</td>\n",
       "      <td>310.0</td>\n",
       "      <td>0</td>\n",
       "      <td>1</td>\n",
       "      <td>0</td>\n",
       "      <td>0</td>\n",
       "      <td>0</td>\n",
       "      <td>1</td>\n",
       "      <td>0</td>\n",
       "      <td>0</td>\n",
       "      <td>1</td>\n",
       "      <td>0</td>\n",
       "      <td>1</td>\n",
       "    </tr>\n",
       "    <tr>\n",
       "      <th>6886</th>\n",
       "      <td>Sars-la-Bruyère</td>\n",
       "      <td>280000.0</td>\n",
       "      <td>3.0</td>\n",
       "      <td>120.0</td>\n",
       "      <td>839.0</td>\n",
       "      <td>0</td>\n",
       "      <td>0</td>\n",
       "      <td>0</td>\n",
       "      <td>0</td>\n",
       "      <td>1</td>\n",
       "      <td>1</td>\n",
       "      <td>0</td>\n",
       "      <td>1</td>\n",
       "      <td>1</td>\n",
       "      <td>0</td>\n",
       "      <td>0</td>\n",
       "    </tr>\n",
       "    <tr>\n",
       "      <th>6887</th>\n",
       "      <td>Rhode-Saint-Genèse</td>\n",
       "      <td>1650000.0</td>\n",
       "      <td>6.0</td>\n",
       "      <td>530.0</td>\n",
       "      <td>1400.0</td>\n",
       "      <td>0</td>\n",
       "      <td>0</td>\n",
       "      <td>0</td>\n",
       "      <td>0</td>\n",
       "      <td>1</td>\n",
       "      <td>1</td>\n",
       "      <td>0</td>\n",
       "      <td>1</td>\n",
       "      <td>1</td>\n",
       "      <td>1</td>\n",
       "      <td>0</td>\n",
       "    </tr>\n",
       "  </tbody>\n",
       "</table>\n",
       "<p>6888 rows × 16 columns</p>\n",
       "</div>"
      ],
      "text/plain": [
       "                Location      Price  Number of bedrooms  Living area  \\\n",
       "0               Verviers   296607.0                 3.0        130.0   \n",
       "1                  VIANE   299000.0                 5.0        200.0   \n",
       "2               Nivelles   195000.0                 3.0        135.0   \n",
       "3                 Dinant   175000.0                 3.0        128.0   \n",
       "4                 Lierde   415000.0                 3.0        207.0   \n",
       "...                  ...        ...                 ...          ...   \n",
       "6883            Zaventem   488000.0                 3.0        150.0   \n",
       "6884               Aalst   550000.0                 4.0       1380.0   \n",
       "6885   Charleroi Ransart   115000.0                 2.0        120.0   \n",
       "6886     Sars-la-Bruyère   280000.0                 3.0        120.0   \n",
       "6887  Rhode-Saint-Genèse  1650000.0                 6.0        530.0   \n",
       "\n",
       "      Surface area land  Property subtype_FARMHOUSE  Property subtype_HOUSE  \\\n",
       "0                 239.0                           0                       1   \n",
       "1                1150.0                           0                       1   \n",
       "2                 165.0                           0                       1   \n",
       "3                 260.0                           0                       1   \n",
       "4                 534.0                           0                       1   \n",
       "...                 ...                         ...                     ...   \n",
       "6883              390.0                           0                       1   \n",
       "6884             1300.0                           0                       0   \n",
       "6885              310.0                           0                       1   \n",
       "6886              839.0                           0                       0   \n",
       "6887             1400.0                           0                       0   \n",
       "\n",
       "      Property subtype_MANSION  Property subtype_MIXED_USE_BUILDING  \\\n",
       "0                            0                                    0   \n",
       "1                            0                                    0   \n",
       "2                            0                                    0   \n",
       "3                            0                                    0   \n",
       "4                            0                                    0   \n",
       "...                        ...                                  ...   \n",
       "6883                         0                                    0   \n",
       "6884                         0                                    0   \n",
       "6885                         0                                    0   \n",
       "6886                         0                                    0   \n",
       "6887                         0                                    0   \n",
       "\n",
       "      Property subtype_VILLA  Kitchen equipped  Open fireplace  Terrace  \\\n",
       "0                          0                 0               0        1   \n",
       "1                          0                 0               0        0   \n",
       "2                          0                 1               0        1   \n",
       "3                          0                 1               0        1   \n",
       "4                          0                 1               0        1   \n",
       "...                      ...               ...             ...      ...   \n",
       "6883                       0                 0               0        1   \n",
       "6884                       1                 1               1        1   \n",
       "6885                       0                 1               0        0   \n",
       "6886                       1                 1               0        1   \n",
       "6887                       1                 1               0        1   \n",
       "\n",
       "      Garden  Pool  Condition  \n",
       "0          1     0          0  \n",
       "1          0     0          0  \n",
       "2          0     0          1  \n",
       "3          0     0          1  \n",
       "4          1     0          0  \n",
       "...      ...   ...        ...  \n",
       "6883       1     0          0  \n",
       "6884       1     0          0  \n",
       "6885       1     0          1  \n",
       "6886       1     0          0  \n",
       "6887       1     1          0  \n",
       "\n",
       "[6888 rows x 16 columns]"
      ]
     },
     "execution_count": 4,
     "metadata": {},
     "output_type": "execute_result"
    }
   ],
   "source": [
    "houses = pd.read_csv('../preprocessing/houses_filtered.csv')\n",
    "houses"
   ]
  },
  {
   "cell_type": "code",
   "execution_count": 5,
   "id": "398ff1f5",
   "metadata": {},
   "outputs": [],
   "source": [
    "X = houses.drop(['Location','Price'], axis=1)\n",
    "y = houses['Price']"
   ]
  },
  {
   "cell_type": "code",
   "execution_count": 6,
   "id": "c9b78f9e",
   "metadata": {},
   "outputs": [],
   "source": [
    "X_train, X_test, y_train, y_test = train_test_split(X, y, test_size=0.2, random_state=41)"
   ]
  },
  {
   "cell_type": "code",
   "execution_count": 7,
   "id": "fb45298c",
   "metadata": {},
   "outputs": [
    {
     "data": {
      "text/plain": [
       "'sc = StandardScaler()\\n\\n\\n# fit_transform(X[, y]): Fit to data, then transform it.\\n# transform(X[, copy]): Perform standardization by centering and scaling.\\n\\n# Fit to data, then transform it.\\n\\nX_train = sc.fit_transform(X_train)\\nX_test = sc.transform(X_test)'"
      ]
     },
     "execution_count": 7,
     "metadata": {},
     "output_type": "execute_result"
    }
   ],
   "source": [
    "\"\"\"sc = StandardScaler()\n",
    "\n",
    "\n",
    "# fit_transform(X[, y]): Fit to data, then transform it.\n",
    "# transform(X[, copy]): Perform standardization by centering and scaling.\n",
    "\n",
    "# Fit to data, then transform it.\n",
    "\n",
    "X_train = sc.fit_transform(X_train)\n",
    "X_test = sc.transform(X_test)\"\"\""
   ]
  },
  {
   "cell_type": "code",
   "execution_count": 8,
   "id": "f14c6130",
   "metadata": {},
   "outputs": [
    {
     "data": {
      "text/plain": [
       "LinearRegression()"
      ]
     },
     "execution_count": 8,
     "metadata": {},
     "output_type": "execute_result"
    }
   ],
   "source": [
    "regressor = LinearRegression()\n",
    "regressor.fit(X_train, y_train)"
   ]
  },
  {
   "cell_type": "code",
   "execution_count": 9,
   "id": "ec0d9eb0",
   "metadata": {},
   "outputs": [
    {
     "name": "stdout",
     "output_type": "stream",
     "text": [
      "0.4042037575237696\n"
     ]
    }
   ],
   "source": [
    "print(regressor.score(X_train, y_train))\n"
   ]
  },
  {
   "cell_type": "code",
   "execution_count": 10,
   "id": "446b363d",
   "metadata": {},
   "outputs": [],
   "source": [
    "y_pred = regressor.predict(X_test)"
   ]
  },
  {
   "cell_type": "code",
   "execution_count": 11,
   "id": "e792c6b0",
   "metadata": {},
   "outputs": [
    {
     "data": {
      "text/plain": [
       "0.4213578821465679"
      ]
     },
     "execution_count": 11,
     "metadata": {},
     "output_type": "execute_result"
    }
   ],
   "source": [
    "regressor.score(X_test,y_test)"
   ]
  },
  {
   "cell_type": "code",
   "execution_count": null,
   "id": "9223c3a3",
   "metadata": {},
   "outputs": [],
   "source": []
  },
  {
   "cell_type": "code",
   "execution_count": 14,
   "id": "45120e70",
   "metadata": {},
   "outputs": [
    {
     "name": "stdout",
     "output_type": "stream",
     "text": [
      "[423254.19154041]\n"
     ]
    }
   ],
   "source": [
    "import pickle\n",
    "\n",
    "data = np.array([4,150,300,0,1,0,0,0,1,1,1,1,0,0])\n",
    "data = data.reshape(1,-1)\n",
    "\n",
    "model = pickle.load(open('model.pickle', 'rb'))\n",
    "print(model.predict(data))"
   ]
  },
  {
   "cell_type": "code",
   "execution_count": null,
   "id": "8851c13a",
   "metadata": {},
   "outputs": [],
   "source": []
  }
 ],
 "metadata": {
  "kernelspec": {
   "display_name": "Python 3 (ipykernel)",
   "language": "python",
   "name": "python3"
  },
  "language_info": {
   "codemirror_mode": {
    "name": "ipython",
    "version": 3
   },
   "file_extension": ".py",
   "mimetype": "text/x-python",
   "name": "python",
   "nbconvert_exporter": "python",
   "pygments_lexer": "ipython3",
   "version": "3.9.7"
  }
 },
 "nbformat": 4,
 "nbformat_minor": 5
}
